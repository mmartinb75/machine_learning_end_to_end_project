{
 "cells": [
  {
   "cell_type": "code",
   "execution_count": 2,
   "metadata": {},
   "outputs": [],
   "source": [
    "from utils.transformations import ExtendedTransformation, SimpleTransformation\n",
    "from utils.filters import SimpleFilter\n",
    "import pandas as pd\n",
    "import numpy as np"
   ]
  },
  {
   "cell_type": "markdown",
   "metadata": {},
   "source": [
    "## Data Loading\n",
    "Load and prepare the training data:\n",
    "- Read preprocessed train data from CSV\n",
    "- Split features (X_train) and target variable (y_train)"
   ]
  },
  {
   "cell_type": "code",
   "execution_count": 3,
   "metadata": {},
   "outputs": [],
   "source": [
    "df_train = pd.read_csv(\"data/preprocessed/train_data.csv\")\n",
    "X_train, y_train = df_train.drop(columns=['Price']), df_train[['Price']]"
   ]
  },
  {
   "cell_type": "markdown",
   "metadata": {},
   "source": [
    "## Initialize Preprocessing Components\n",
    "Set up preprocessing components:\n",
    "- ExtendedTransformation for complex feature engineering\n",
    "- SimpleFilter for feature selection"
   ]
  },
  {
   "cell_type": "code",
   "execution_count": 4,
   "metadata": {},
   "outputs": [],
   "source": [
    "preprocessor = ExtendedTransformation()\n",
    "filter = SimpleFilter()"
   ]
  },
  {
   "cell_type": "markdown",
   "metadata": {},
   "source": [
    "## Fit Preprocessor\n",
    "Fit the preprocessor to learn data characteristics:\n",
    "- Analyzes feature distributions and relationships\n",
    "- Prepares for transformation"
   ]
  },
  {
   "cell_type": "code",
   "execution_count": 5,
   "metadata": {},
   "outputs": [
    {
     "name": "stdout",
     "output_type": "stream",
     "text": [
      "X shape:  (20974, 40)\n",
      "bin_vars_columns shape:  (36,)\n",
      "low_card_columns shape:  37\n"
     ]
    }
   ],
   "source": [
    "preprocessor.fit(X_train, y_train)"
   ]
  },
  {
   "cell_type": "markdown",
   "metadata": {},
   "source": [
    "## Apply Data Transformation\n",
    "Execute the preprocessing pipeline:\n",
    "- Transforms raw features into engineered features\n",
    "- Includes feature scaling, encoding, and feature crossing\n",
    "- Outputs processed features (X_processed) and target (y_processed)"
   ]
  },
  {
   "cell_type": "code",
   "execution_count": 6,
   "metadata": {},
   "outputs": [
    {
     "name": "stdout",
     "output_type": "stream",
     "text": [
      "X shape:  (20974, 40)\n",
      "X_low_card   shape:  (20974, 113)\n",
      "X_high_card shape:  (20974, 50)\n",
      "X_crossed_features shape:  (20974, 6670)\n",
      "X_EXPANDED shape:  (20974, 6835)\n"
     ]
    }
   ],
   "source": [
    "X_processed, y_processed = preprocessor.transform(X_train, y_train)"
   ]
  },
  {
   "cell_type": "markdown",
   "metadata": {},
   "source": [
    "## Examine Processed Data\n",
    "Display the first few rows of the processed test data:\n",
    "- Shows the structure and values of engineered features"
   ]
  },
  {
   "cell_type": "code",
   "execution_count": 7,
   "metadata": {},
   "outputs": [
    {
     "data": {
      "text/html": [
       "<div>\n",
       "<style scoped>\n",
       "    .dataframe tbody tr th:only-of-type {\n",
       "        vertical-align: middle;\n",
       "    }\n",
       "\n",
       "    .dataframe tbody tr th {\n",
       "        vertical-align: top;\n",
       "    }\n",
       "\n",
       "    .dataframe thead th {\n",
       "        text-align: right;\n",
       "    }\n",
       "</style>\n",
       "<table border=\"1\" class=\"dataframe\">\n",
       "  <thead>\n",
       "    <tr style=\"text-align: right;\">\n",
       "      <th></th>\n",
       "      <th>Area</th>\n",
       "      <th>No. of Bedrooms</th>\n",
       "      <th>city_Bangalore</th>\n",
       "      <th>city_Chennai</th>\n",
       "      <th>city_Delhi</th>\n",
       "      <th>city_Hyderabad</th>\n",
       "      <th>city_Kolkata</th>\n",
       "      <th>city_Mumbai</th>\n",
       "      <th>Resale_NO</th>\n",
       "      <th>Resale_SI</th>\n",
       "      <th>...</th>\n",
       "      <th>Stadium_NO Stadium_NO_DISPONIBLE</th>\n",
       "      <th>Stadium_NO Stadium_SI</th>\n",
       "      <th>Stadium_NO Area</th>\n",
       "      <th>Stadium_NO No. of Bedrooms</th>\n",
       "      <th>Stadium_NO_DISPONIBLE Stadium_SI</th>\n",
       "      <th>Stadium_NO_DISPONIBLE Area</th>\n",
       "      <th>Stadium_NO_DISPONIBLE No. of Bedrooms</th>\n",
       "      <th>Stadium_SI Area</th>\n",
       "      <th>Stadium_SI No. of Bedrooms</th>\n",
       "      <th>Area No. of Bedrooms</th>\n",
       "    </tr>\n",
       "  </thead>\n",
       "  <tbody>\n",
       "    <tr>\n",
       "      <th>0</th>\n",
       "      <td>0.702132</td>\n",
       "      <td>-0.552619</td>\n",
       "      <td>0.0</td>\n",
       "      <td>0.0</td>\n",
       "      <td>1.0</td>\n",
       "      <td>0.0</td>\n",
       "      <td>0.0</td>\n",
       "      <td>0.0</td>\n",
       "      <td>0.0</td>\n",
       "      <td>1.0</td>\n",
       "      <td>...</td>\n",
       "      <td>0.0</td>\n",
       "      <td>0.0</td>\n",
       "      <td>0.000000</td>\n",
       "      <td>-0.000000</td>\n",
       "      <td>0.0</td>\n",
       "      <td>0.000000</td>\n",
       "      <td>-0.000000</td>\n",
       "      <td>0.702132</td>\n",
       "      <td>-0.552619</td>\n",
       "      <td>-0.388011</td>\n",
       "    </tr>\n",
       "    <tr>\n",
       "      <th>1</th>\n",
       "      <td>0.994486</td>\n",
       "      <td>0.896197</td>\n",
       "      <td>1.0</td>\n",
       "      <td>0.0</td>\n",
       "      <td>0.0</td>\n",
       "      <td>0.0</td>\n",
       "      <td>0.0</td>\n",
       "      <td>0.0</td>\n",
       "      <td>1.0</td>\n",
       "      <td>0.0</td>\n",
       "      <td>...</td>\n",
       "      <td>0.0</td>\n",
       "      <td>0.0</td>\n",
       "      <td>0.000000</td>\n",
       "      <td>0.000000</td>\n",
       "      <td>0.0</td>\n",
       "      <td>0.994486</td>\n",
       "      <td>0.896197</td>\n",
       "      <td>0.000000</td>\n",
       "      <td>0.000000</td>\n",
       "      <td>0.891256</td>\n",
       "    </tr>\n",
       "    <tr>\n",
       "      <th>2</th>\n",
       "      <td>-0.415081</td>\n",
       "      <td>0.896197</td>\n",
       "      <td>0.0</td>\n",
       "      <td>0.0</td>\n",
       "      <td>1.0</td>\n",
       "      <td>0.0</td>\n",
       "      <td>0.0</td>\n",
       "      <td>0.0</td>\n",
       "      <td>0.0</td>\n",
       "      <td>1.0</td>\n",
       "      <td>...</td>\n",
       "      <td>0.0</td>\n",
       "      <td>0.0</td>\n",
       "      <td>-0.000000</td>\n",
       "      <td>0.000000</td>\n",
       "      <td>0.0</td>\n",
       "      <td>-0.415081</td>\n",
       "      <td>0.896197</td>\n",
       "      <td>-0.000000</td>\n",
       "      <td>0.000000</td>\n",
       "      <td>-0.371995</td>\n",
       "    </tr>\n",
       "    <tr>\n",
       "      <th>3</th>\n",
       "      <td>-1.333910</td>\n",
       "      <td>-0.552619</td>\n",
       "      <td>0.0</td>\n",
       "      <td>0.0</td>\n",
       "      <td>0.0</td>\n",
       "      <td>0.0</td>\n",
       "      <td>0.0</td>\n",
       "      <td>1.0</td>\n",
       "      <td>0.0</td>\n",
       "      <td>1.0</td>\n",
       "      <td>...</td>\n",
       "      <td>0.0</td>\n",
       "      <td>0.0</td>\n",
       "      <td>-1.333910</td>\n",
       "      <td>-0.552619</td>\n",
       "      <td>0.0</td>\n",
       "      <td>-0.000000</td>\n",
       "      <td>-0.000000</td>\n",
       "      <td>-0.000000</td>\n",
       "      <td>-0.000000</td>\n",
       "      <td>0.737144</td>\n",
       "    </tr>\n",
       "    <tr>\n",
       "      <th>4</th>\n",
       "      <td>0.308845</td>\n",
       "      <td>0.896197</td>\n",
       "      <td>0.0</td>\n",
       "      <td>1.0</td>\n",
       "      <td>0.0</td>\n",
       "      <td>0.0</td>\n",
       "      <td>0.0</td>\n",
       "      <td>0.0</td>\n",
       "      <td>1.0</td>\n",
       "      <td>0.0</td>\n",
       "      <td>...</td>\n",
       "      <td>0.0</td>\n",
       "      <td>0.0</td>\n",
       "      <td>0.308845</td>\n",
       "      <td>0.896197</td>\n",
       "      <td>0.0</td>\n",
       "      <td>0.000000</td>\n",
       "      <td>0.000000</td>\n",
       "      <td>0.000000</td>\n",
       "      <td>0.000000</td>\n",
       "      <td>0.276786</td>\n",
       "    </tr>\n",
       "  </tbody>\n",
       "</table>\n",
       "<p>5 rows × 6835 columns</p>\n",
       "</div>"
      ],
      "text/plain": [
       "       Area  No. of Bedrooms  city_Bangalore  city_Chennai  city_Delhi  \\\n",
       "0  0.702132        -0.552619             0.0           0.0         1.0   \n",
       "1  0.994486         0.896197             1.0           0.0         0.0   \n",
       "2 -0.415081         0.896197             0.0           0.0         1.0   \n",
       "3 -1.333910        -0.552619             0.0           0.0         0.0   \n",
       "4  0.308845         0.896197             0.0           1.0         0.0   \n",
       "\n",
       "   city_Hyderabad  city_Kolkata  city_Mumbai  Resale_NO  Resale_SI  ...  \\\n",
       "0             0.0           0.0          0.0        0.0        1.0  ...   \n",
       "1             0.0           0.0          0.0        1.0        0.0  ...   \n",
       "2             0.0           0.0          0.0        0.0        1.0  ...   \n",
       "3             0.0           0.0          1.0        0.0        1.0  ...   \n",
       "4             0.0           0.0          0.0        1.0        0.0  ...   \n",
       "\n",
       "   Stadium_NO Stadium_NO_DISPONIBLE  Stadium_NO Stadium_SI  Stadium_NO Area  \\\n",
       "0                               0.0                    0.0         0.000000   \n",
       "1                               0.0                    0.0         0.000000   \n",
       "2                               0.0                    0.0        -0.000000   \n",
       "3                               0.0                    0.0        -1.333910   \n",
       "4                               0.0                    0.0         0.308845   \n",
       "\n",
       "   Stadium_NO No. of Bedrooms  Stadium_NO_DISPONIBLE Stadium_SI  \\\n",
       "0                   -0.000000                               0.0   \n",
       "1                    0.000000                               0.0   \n",
       "2                    0.000000                               0.0   \n",
       "3                   -0.552619                               0.0   \n",
       "4                    0.896197                               0.0   \n",
       "\n",
       "   Stadium_NO_DISPONIBLE Area  Stadium_NO_DISPONIBLE No. of Bedrooms  \\\n",
       "0                    0.000000                              -0.000000   \n",
       "1                    0.994486                               0.896197   \n",
       "2                   -0.415081                               0.896197   \n",
       "3                   -0.000000                              -0.000000   \n",
       "4                    0.000000                               0.000000   \n",
       "\n",
       "   Stadium_SI Area  Stadium_SI No. of Bedrooms  Area No. of Bedrooms  \n",
       "0         0.702132                   -0.552619             -0.388011  \n",
       "1         0.000000                    0.000000              0.891256  \n",
       "2        -0.000000                    0.000000             -0.371995  \n",
       "3        -0.000000                   -0.000000              0.737144  \n",
       "4         0.000000                    0.000000              0.276786  \n",
       "\n",
       "[5 rows x 6835 columns]"
      ]
     },
     "execution_count": 7,
     "metadata": {},
     "output_type": "execute_result"
    }
   ],
   "source": [
    "X_processed.head()"
   ]
  },
  {
   "cell_type": "markdown",
   "metadata": {},
   "source": [
    "## Feature Selection\n",
    "Apply feature selection using SimpleFilter:\n",
    "- Fits the filter to the processed data\n",
    "- Identifies most relevant features for the model"
   ]
  },
  {
   "cell_type": "code",
   "execution_count": 8,
   "metadata": {},
   "outputs": [
    {
     "name": "stdout",
     "output_type": "stream",
     "text": [
      "(20974, 6835)\n",
      "(20974, 4173)\n",
      "(20974, 3193)\n",
      "(20974, 1635)\n"
     ]
    }
   ],
   "source": [
    "filter.fit(X_processed, y_processed)"
   ]
  },
  {
   "cell_type": "code",
   "execution_count": 9,
   "metadata": {},
   "outputs": [
    {
     "name": "stdout",
     "output_type": "stream",
     "text": [
      "(20974, 4173)\n",
      "(20974, 3193)\n",
      "(20974, 1635)\n"
     ]
    }
   ],
   "source": [
    "X_filtered, y_filtered = filter.transform(X_processed, y_processed)"
   ]
  },
  {
   "cell_type": "code",
   "execution_count": 15,
   "metadata": {},
   "outputs": [
    {
     "ename": "AttributeError",
     "evalue": "'numpy.ndarray' object has no attribute 'head'",
     "output_type": "error",
     "traceback": [
      "\u001b[0;31m---------------------------------------------------------------------------\u001b[0m",
      "\u001b[0;31mAttributeError\u001b[0m                            Traceback (most recent call last)",
      "Cell \u001b[0;32mIn[15], line 1\u001b[0m\n\u001b[0;32m----> 1\u001b[0m y_filtered\u001b[38;5;241m.\u001b[39mhead()\n",
      "\u001b[0;31mAttributeError\u001b[0m: 'numpy.ndarray' object has no attribute 'head'"
     ]
    }
   ],
   "source": [
    "y_filtered.head()"
   ]
  },
  {
   "cell_type": "code",
   "execution_count": 12,
   "metadata": {},
   "outputs": [
    {
     "data": {
      "text/html": [
       "<div>\n",
       "<style scoped>\n",
       "    .dataframe tbody tr th:only-of-type {\n",
       "        vertical-align: middle;\n",
       "    }\n",
       "\n",
       "    .dataframe tbody tr th {\n",
       "        vertical-align: top;\n",
       "    }\n",
       "\n",
       "    .dataframe thead th {\n",
       "        text-align: right;\n",
       "    }\n",
       "</style>\n",
       "<table border=\"1\" class=\"dataframe\">\n",
       "  <thead>\n",
       "    <tr style=\"text-align: right;\">\n",
       "      <th></th>\n",
       "      <th>Area</th>\n",
       "      <th>No. of Bedrooms</th>\n",
       "      <th>city_Bangalore</th>\n",
       "      <th>city_Chennai</th>\n",
       "      <th>city_Delhi</th>\n",
       "      <th>city_Hyderabad</th>\n",
       "      <th>city_Kolkata</th>\n",
       "      <th>city_Mumbai</th>\n",
       "      <th>Resale_NO</th>\n",
       "      <th>MaintenanceStaff_NO</th>\n",
       "      <th>...</th>\n",
       "      <th>DiningTable_SI Stadium_NO</th>\n",
       "      <th>DiningTable_SI Stadium_SI</th>\n",
       "      <th>DiningTable_SI Area</th>\n",
       "      <th>DiningTable_SI No. of Bedrooms</th>\n",
       "      <th>Sofa_NO Stadium_SI</th>\n",
       "      <th>Sofa_SI Wardrobe_SI</th>\n",
       "      <th>Sofa_SI Stadium_NO</th>\n",
       "      <th>Sofa_SI No. of Bedrooms</th>\n",
       "      <th>Wardrobe_SI Area</th>\n",
       "      <th>Area No. of Bedrooms</th>\n",
       "    </tr>\n",
       "  </thead>\n",
       "  <tbody>\n",
       "    <tr>\n",
       "      <th>0</th>\n",
       "      <td>0.702132</td>\n",
       "      <td>-0.552619</td>\n",
       "      <td>0.0</td>\n",
       "      <td>0.0</td>\n",
       "      <td>1.0</td>\n",
       "      <td>0.0</td>\n",
       "      <td>0.0</td>\n",
       "      <td>0.0</td>\n",
       "      <td>0.0</td>\n",
       "      <td>1.0</td>\n",
       "      <td>...</td>\n",
       "      <td>0.0</td>\n",
       "      <td>1.0</td>\n",
       "      <td>0.702132</td>\n",
       "      <td>-0.552619</td>\n",
       "      <td>0.0</td>\n",
       "      <td>0.0</td>\n",
       "      <td>0.0</td>\n",
       "      <td>-0.552619</td>\n",
       "      <td>0.0</td>\n",
       "      <td>-0.388011</td>\n",
       "    </tr>\n",
       "    <tr>\n",
       "      <th>1</th>\n",
       "      <td>0.994486</td>\n",
       "      <td>0.896197</td>\n",
       "      <td>1.0</td>\n",
       "      <td>0.0</td>\n",
       "      <td>0.0</td>\n",
       "      <td>0.0</td>\n",
       "      <td>0.0</td>\n",
       "      <td>0.0</td>\n",
       "      <td>1.0</td>\n",
       "      <td>0.0</td>\n",
       "      <td>...</td>\n",
       "      <td>0.0</td>\n",
       "      <td>0.0</td>\n",
       "      <td>0.000000</td>\n",
       "      <td>0.000000</td>\n",
       "      <td>0.0</td>\n",
       "      <td>0.0</td>\n",
       "      <td>0.0</td>\n",
       "      <td>0.000000</td>\n",
       "      <td>0.0</td>\n",
       "      <td>0.891256</td>\n",
       "    </tr>\n",
       "    <tr>\n",
       "      <th>2</th>\n",
       "      <td>-0.415081</td>\n",
       "      <td>0.896197</td>\n",
       "      <td>0.0</td>\n",
       "      <td>0.0</td>\n",
       "      <td>1.0</td>\n",
       "      <td>0.0</td>\n",
       "      <td>0.0</td>\n",
       "      <td>0.0</td>\n",
       "      <td>0.0</td>\n",
       "      <td>0.0</td>\n",
       "      <td>...</td>\n",
       "      <td>0.0</td>\n",
       "      <td>0.0</td>\n",
       "      <td>-0.000000</td>\n",
       "      <td>0.000000</td>\n",
       "      <td>0.0</td>\n",
       "      <td>0.0</td>\n",
       "      <td>0.0</td>\n",
       "      <td>0.000000</td>\n",
       "      <td>-0.0</td>\n",
       "      <td>-0.371995</td>\n",
       "    </tr>\n",
       "    <tr>\n",
       "      <th>3</th>\n",
       "      <td>-1.333910</td>\n",
       "      <td>-0.552619</td>\n",
       "      <td>0.0</td>\n",
       "      <td>0.0</td>\n",
       "      <td>0.0</td>\n",
       "      <td>0.0</td>\n",
       "      <td>0.0</td>\n",
       "      <td>1.0</td>\n",
       "      <td>0.0</td>\n",
       "      <td>0.0</td>\n",
       "      <td>...</td>\n",
       "      <td>0.0</td>\n",
       "      <td>0.0</td>\n",
       "      <td>-0.000000</td>\n",
       "      <td>-0.000000</td>\n",
       "      <td>0.0</td>\n",
       "      <td>0.0</td>\n",
       "      <td>0.0</td>\n",
       "      <td>-0.000000</td>\n",
       "      <td>-0.0</td>\n",
       "      <td>0.737144</td>\n",
       "    </tr>\n",
       "    <tr>\n",
       "      <th>4</th>\n",
       "      <td>0.308845</td>\n",
       "      <td>0.896197</td>\n",
       "      <td>0.0</td>\n",
       "      <td>1.0</td>\n",
       "      <td>0.0</td>\n",
       "      <td>0.0</td>\n",
       "      <td>0.0</td>\n",
       "      <td>0.0</td>\n",
       "      <td>1.0</td>\n",
       "      <td>1.0</td>\n",
       "      <td>...</td>\n",
       "      <td>0.0</td>\n",
       "      <td>0.0</td>\n",
       "      <td>0.000000</td>\n",
       "      <td>0.000000</td>\n",
       "      <td>0.0</td>\n",
       "      <td>0.0</td>\n",
       "      <td>0.0</td>\n",
       "      <td>0.000000</td>\n",
       "      <td>0.0</td>\n",
       "      <td>0.276786</td>\n",
       "    </tr>\n",
       "  </tbody>\n",
       "</table>\n",
       "<p>5 rows × 1632 columns</p>\n",
       "</div>"
      ],
      "text/plain": [
       "       Area  No. of Bedrooms  city_Bangalore  city_Chennai  city_Delhi  \\\n",
       "0  0.702132        -0.552619             0.0           0.0         1.0   \n",
       "1  0.994486         0.896197             1.0           0.0         0.0   \n",
       "2 -0.415081         0.896197             0.0           0.0         1.0   \n",
       "3 -1.333910        -0.552619             0.0           0.0         0.0   \n",
       "4  0.308845         0.896197             0.0           1.0         0.0   \n",
       "\n",
       "   city_Hyderabad  city_Kolkata  city_Mumbai  Resale_NO  MaintenanceStaff_NO  \\\n",
       "0             0.0           0.0          0.0        0.0                  1.0   \n",
       "1             0.0           0.0          0.0        1.0                  0.0   \n",
       "2             0.0           0.0          0.0        0.0                  0.0   \n",
       "3             0.0           0.0          1.0        0.0                  0.0   \n",
       "4             0.0           0.0          0.0        1.0                  1.0   \n",
       "\n",
       "   ...  DiningTable_SI Stadium_NO  DiningTable_SI Stadium_SI  \\\n",
       "0  ...                        0.0                        1.0   \n",
       "1  ...                        0.0                        0.0   \n",
       "2  ...                        0.0                        0.0   \n",
       "3  ...                        0.0                        0.0   \n",
       "4  ...                        0.0                        0.0   \n",
       "\n",
       "   DiningTable_SI Area  DiningTable_SI No. of Bedrooms  Sofa_NO Stadium_SI  \\\n",
       "0             0.702132                       -0.552619                 0.0   \n",
       "1             0.000000                        0.000000                 0.0   \n",
       "2            -0.000000                        0.000000                 0.0   \n",
       "3            -0.000000                       -0.000000                 0.0   \n",
       "4             0.000000                        0.000000                 0.0   \n",
       "\n",
       "   Sofa_SI Wardrobe_SI  Sofa_SI Stadium_NO  Sofa_SI No. of Bedrooms  \\\n",
       "0                  0.0                 0.0                -0.552619   \n",
       "1                  0.0                 0.0                 0.000000   \n",
       "2                  0.0                 0.0                 0.000000   \n",
       "3                  0.0                 0.0                -0.000000   \n",
       "4                  0.0                 0.0                 0.000000   \n",
       "\n",
       "   Wardrobe_SI Area  Area No. of Bedrooms  \n",
       "0               0.0             -0.388011  \n",
       "1               0.0              0.891256  \n",
       "2              -0.0             -0.371995  \n",
       "3              -0.0              0.737144  \n",
       "4               0.0              0.276786  \n",
       "\n",
       "[5 rows x 1632 columns]"
      ]
     },
     "execution_count": 12,
     "metadata": {},
     "output_type": "execute_result"
    }
   ],
   "source": [
    "X_filtered.head()"
   ]
  },
  {
   "cell_type": "markdown",
   "metadata": {},
   "source": [
    "## Save to file\n",
    "Save train data for posterior reuse"
   ]
  },
  {
   "cell_type": "code",
   "execution_count": 18,
   "metadata": {},
   "outputs": [],
   "source": [
    "y_filtered_df = pd.DataFrame({\"y\":y_filtered.flatten()}, index=X_filtered.index)\n",
    "DIR = \"data/postproccessed/\"\n",
    "X_filtered.to_pickle(DIR +'X_train_pipe_1.pkl')\n",
    "y_filtered_df.to_pickle(DIR +'y_train_pipe_1.pkl')"
   ]
  },
  {
   "cell_type": "markdown",
   "metadata": {},
   "source": [
    "## Load Test Dataset\n",
    "Prepare the test dataset:\n",
    "- Read from CSV file\n",
    "- Split features (X_test) and target variable (y_test)"
   ]
  },
  {
   "cell_type": "code",
   "execution_count": 22,
   "metadata": {},
   "outputs": [],
   "source": [
    "df_test = pd.read_csv(\"data/preprocessed/test_data.csv\")\n",
    "X_test, y_test = df_test.drop(columns=['Price']), df_test[['Price']]"
   ]
  },
  {
   "cell_type": "markdown",
   "metadata": {},
   "source": [
    "## Process Test Data\n",
    "Apply the same preprocessing pipeline to test data:\n",
    "- Transform features using preprocessor\n",
    "- Apply feature selection using filter\n",
    "- Output processed and filtered test data"
   ]
  },
  {
   "cell_type": "code",
   "execution_count": 23,
   "metadata": {},
   "outputs": [
    {
     "name": "stdout",
     "output_type": "stream",
     "text": [
      "X shape:  (8989, 40)\n",
      "X_low_card   shape:  (8989, 113)\n",
      "X_high_card shape:  (8989, 50)\n",
      "X_crossed_features shape:  (8989, 6670)\n",
      "X_EXPANDED shape:  (8989, 6835)\n",
      "(8989, 4173)\n",
      "(8989, 3193)\n",
      "(8989, 1635)\n"
     ]
    }
   ],
   "source": [
    "X_test_proccesed, y_test_proccessed = preprocessor.transform(X_test, y_test)\n",
    "X_test_filtered, y_test_filtered = filter.transform(X_test_proccesed, y_test_proccessed)"
   ]
  },
  {
   "cell_type": "markdown",
   "metadata": {},
   "source": [
    "## Save to file\n",
    "Save train data for posterior reuse"
   ]
  },
  {
   "cell_type": "code",
   "execution_count": 24,
   "metadata": {},
   "outputs": [],
   "source": [
    "y_test_filtered_df = pd.DataFrame({\"y\":y_test_filtered.flatten()}, index=X_test_filtered.index)\n",
    "DIR = \"data/postproccessed/\"\n",
    "X_test_filtered.to_pickle(DIR +'X_test_pipe_1.pkl')\n",
    "y_test_filtered_df.to_pickle(DIR +'y_test_pipe_1.pkl')"
   ]
  }
 ],
 "metadata": {
  "kernelspec": {
   "display_name": "Python 3",
   "language": "python",
   "name": "python3"
  },
  "language_info": {
   "codemirror_mode": {
    "name": "ipython",
    "version": 3
   },
   "file_extension": ".py",
   "mimetype": "text/x-python",
   "name": "python",
   "nbconvert_exporter": "python",
   "pygments_lexer": "ipython3",
   "version": "3.12.8"
  }
 },
 "nbformat": 4,
 "nbformat_minor": 2
}
