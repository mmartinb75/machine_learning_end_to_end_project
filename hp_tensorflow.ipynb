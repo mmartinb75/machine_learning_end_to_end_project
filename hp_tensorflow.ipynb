{
 "cells": [
  {
   "cell_type": "code",
   "execution_count": 8,
   "metadata": {},
   "outputs": [],
   "source": [
    "import tensorflow as tf\n",
    "from tensorflow.keras import layers, models\n",
    "from utils.transformations import ExtendedTransformation, SimpleTransformation\n",
    "from utils.filters import SimpleFilter\n",
    "from sklearn.model_selection import train_test_split\n",
    "import optuna\n",
    "import pandas as pd\n",
    "import numpy as np"
   ]
  },
  {
   "cell_type": "code",
   "execution_count": 2,
   "metadata": {},
   "outputs": [
    {
     "name": "stdout",
     "output_type": "stream",
     "text": [
      "X shape:  (20974, 40)\n",
      "bin_vars_columns shape:  (36,)\n",
      "low_card_columns shape:  37\n",
      "X shape:  (20974, 40)\n",
      "X_low_card   shape:  (20974, 113)\n",
      "X_high_card shape:  (20974, 50)\n",
      "X_crossed_features shape:  (20974, 6670)\n",
      "X_EXPANDED shape:  (20974, 6835)\n",
      "(20974, 6835)\n",
      "(20974, 4173)\n",
      "(20974, 3193)\n",
      "(20974, 1635)\n",
      "(20974, 4173)\n",
      "(20974, 3193)\n",
      "(20974, 1635)\n"
     ]
    }
   ],
   "source": [
    "df_train = pd.read_csv(\"data/preprocessed/train_data.csv\")\n",
    "X_train, y_train = df_train.drop(columns=['Price']), df_train[['Price']]\n",
    "preprocessor = ExtendedTransformation()\n",
    "filter = SimpleFilter()\n",
    "preprocessor.fit(X_train, y_train)\n",
    "X_processed, y_processed = preprocessor.transform(X_train, y_train)\n",
    "filter.fit(X_processed, y_processed)\n",
    "X_filtered, y_filtered = filter.transform(X_processed, y_processed)"
   ]
  },
  {
   "cell_type": "code",
   "execution_count": 3,
   "metadata": {},
   "outputs": [
    {
     "name": "stdout",
     "output_type": "stream",
     "text": [
      "X shape:  (8989, 40)\n",
      "X_low_card   shape:  (8989, 113)\n",
      "X_high_card shape:  (8989, 50)\n",
      "X_crossed_features shape:  (8989, 6670)\n",
      "X_EXPANDED shape:  (8989, 6835)\n",
      "(8989, 4173)\n",
      "(8989, 3193)\n",
      "(8989, 1635)\n"
     ]
    }
   ],
   "source": [
    "df_test = pd.read_csv(\"data/preprocessed/test_data.csv\")\n",
    "X_test, y_test = df_test.drop(columns=['Price']), df_test[['Price']]\n",
    "X_test_proccesed, y_test_proccessed = preprocessor.transform(X_test, y_test)\n",
    "X_test_filtered, y_test_filtered = filter.transform(X_test_proccesed, y_test_proccessed)"
   ]
  },
  {
   "cell_type": "code",
   "execution_count": 16,
   "metadata": {},
   "outputs": [],
   "source": [
    "def create_model(trial):\n",
    "    n_layers = trial.suggest_int('n_layers', 1, 6)\n",
    "    model = tf.keras.Sequential()\n",
    "    model.add(tf.keras.layers.Flatten())\n",
    "    for layer in range(n_layers):\n",
    "        n_neuros = trial.suggest_categorical(f'neurons_of_layer{layer}', [32,64,128,256,512])\n",
    "        model.add(tf.keras.layers.Dense(n_neuros, activation='relu'))\n",
    "        dropout_ratio = trial.suggest_float(f'dropout_of_layer{layer}', 0.0, 0.35)\n",
    "        model.add(tf.keras.layers.Dropout(dropout_ratio))\n",
    "    model.add(tf.keras.layers.Dense(1))\n",
    "    return model"
   ]
  },
  {
   "cell_type": "code",
   "execution_count": 17,
   "metadata": {},
   "outputs": [],
   "source": [
    "def objective(trial):\n",
    "    X,y = X_filtered, y_filtered\n",
    "    X_train, X_val, y_train, y_val = train_test_split(X,y, test_size=0.3, random_state=42)\n",
    "    learning_rate = trial.suggest_float(\"learnin_rate\", 0.0001, 0.1, log=True)\n",
    "    model = create_model(trial)\n",
    "    optimizer = tf.keras.optimizers.Adam(learning_rate)\n",
    "    model.compile(loss='mse', metrics=['mae'], optimizer=optimizer)\n",
    "    early_stopping_callback = tf.keras.callbacks.EarlyStopping(\n",
    "        monitor='val_loss',  # Monitoriza la pérdida en el conjunto de validación\n",
    "        patience=10,         # Número de épocas sin mejora antes de detener el entrenamient\n",
    "        verbose=1,           # Muestra mensajes cuando se detiene el entrenamiento\n",
    "        restore_best_weights=True  # Restaura los pesos del modelo de la mejor época encontrada\n",
    "        )\n",
    "    batch_size_param = trial.suggest_categorical('batch_size',[8,16,32,124])\n",
    "    history = model.fit(X_train, y_train,\n",
    "                        epochs=200, \n",
    "                        batch_size=batch_size_param,\n",
    "                        validation_data=(X_val, y_val),\n",
    "                        callbacks=[early_stopping_callback], verbose=0)\n",
    "    \n",
    "    results = model.evaluate(X_val, y_val, verbose=0)\n",
    "    return results[0], model\n"
   ]
  },
  {
   "cell_type": "code",
   "execution_count": 18,
   "metadata": {},
   "outputs": [
    {
     "name": "stderr",
     "output_type": "stream",
     "text": [
      "[I 2025-03-27 19:02:40,467] A new study created in memory with name: no-name-981d69d8-93b4-46fb-9162-054b916261f8\n"
     ]
    },
    {
     "name": "stdout",
     "output_type": "stream",
     "text": [
      "Epoch 44: early stopping\n",
      "Restoring model weights from the end of the best epoch: 34.\n"
     ]
    },
    {
     "name": "stderr",
     "output_type": "stream",
     "text": [
      "[W 2025-03-27 19:03:08,433] Trial 0 failed with parameters: {'learnin_rate': 0.07153815154240704, 'n_layers': 4, 'neurons_of_layer0': 64, 'dropout_of_layer0': 0.09441626471780273, 'neurons_of_layer1': 256, 'dropout_of_layer1': 0.12368310056399408, 'neurons_of_layer2': 512, 'dropout_of_layer2': 0.12442538481834291, 'neurons_of_layer3': 32, 'dropout_of_layer3': 0.2986738858993689, 'batch_size': 124} because of the following error: The value <Sequential name=sequential_13, built=True> could not be cast to float.\n",
      "[W 2025-03-27 19:03:08,433] Trial 0 failed with value (0.9979563355445862, <Sequential name=sequential_13, built=True>).\n"
     ]
    },
    {
     "name": "stdout",
     "output_type": "stream",
     "text": [
      "Epoch 24: early stopping\n",
      "Restoring model weights from the end of the best epoch: 14.\n"
     ]
    },
    {
     "name": "stderr",
     "output_type": "stream",
     "text": [
      "[W 2025-03-27 19:05:35,523] Trial 1 failed with parameters: {'learnin_rate': 0.0027372893897031902, 'n_layers': 5, 'neurons_of_layer0': 64, 'dropout_of_layer0': 0.1350467844488989, 'neurons_of_layer1': 512, 'dropout_of_layer1': 0.02689732102324603, 'neurons_of_layer2': 512, 'dropout_of_layer2': 0.028579360754969387, 'neurons_of_layer3': 32, 'dropout_of_layer3': 0.3014452468569863, 'neurons_of_layer4': 128, 'dropout_of_layer4': 0.1197322740369365, 'batch_size': 8} because of the following error: The value <Sequential name=sequential_14, built=True> could not be cast to float.\n",
      "[W 2025-03-27 19:05:35,524] Trial 1 failed with value (0.6552473902702332, <Sequential name=sequential_14, built=True>).\n"
     ]
    },
    {
     "name": "stdout",
     "output_type": "stream",
     "text": [
      "Epoch 37: early stopping\n",
      "Restoring model weights from the end of the best epoch: 27.\n"
     ]
    },
    {
     "name": "stderr",
     "output_type": "stream",
     "text": [
      "[W 2025-03-27 19:05:43,639] Trial 2 failed with parameters: {'learnin_rate': 0.0007236490111414075, 'n_layers': 2, 'neurons_of_layer0': 32, 'dropout_of_layer0': 0.04587224588510305, 'neurons_of_layer1': 32, 'dropout_of_layer1': 0.11489232156430101, 'batch_size': 124} because of the following error: The value <Sequential name=sequential_15, built=True> could not be cast to float.\n",
      "[W 2025-03-27 19:05:43,640] Trial 2 failed with value (0.5428674221038818, <Sequential name=sequential_15, built=True>).\n"
     ]
    },
    {
     "name": "stdout",
     "output_type": "stream",
     "text": [
      "Epoch 27: early stopping\n",
      "Restoring model weights from the end of the best epoch: 17.\n"
     ]
    },
    {
     "name": "stderr",
     "output_type": "stream",
     "text": [
      "[W 2025-03-27 19:06:58,215] Trial 3 failed with parameters: {'learnin_rate': 0.000562204568589989, 'n_layers': 6, 'neurons_of_layer0': 64, 'dropout_of_layer0': 0.21200646349737912, 'neurons_of_layer1': 32, 'dropout_of_layer1': 0.1280668907602219, 'neurons_of_layer2': 32, 'dropout_of_layer2': 0.24787654806335493, 'neurons_of_layer3': 128, 'dropout_of_layer3': 0.18735803345793386, 'neurons_of_layer4': 256, 'dropout_of_layer4': 0.20290037072821623, 'neurons_of_layer5': 512, 'dropout_of_layer5': 0.19243778103261902, 'batch_size': 16} because of the following error: The value <Sequential name=sequential_16, built=True> could not be cast to float.\n",
      "[W 2025-03-27 19:06:58,216] Trial 3 failed with value (0.5572975277900696, <Sequential name=sequential_16, built=True>).\n"
     ]
    },
    {
     "name": "stdout",
     "output_type": "stream",
     "text": [
      "Epoch 20: early stopping\n",
      "Restoring model weights from the end of the best epoch: 10.\n"
     ]
    },
    {
     "name": "stderr",
     "output_type": "stream",
     "text": [
      "[W 2025-03-27 19:07:14,041] Trial 4 failed with parameters: {'learnin_rate': 0.005418505388381976, 'n_layers': 3, 'neurons_of_layer0': 256, 'dropout_of_layer0': 0.13361480151847022, 'neurons_of_layer1': 512, 'dropout_of_layer1': 0.23913530894121388, 'neurons_of_layer2': 32, 'dropout_of_layer2': 0.05879675015332005, 'batch_size': 124} because of the following error: The value <Sequential name=sequential_17, built=True> could not be cast to float.\n",
      "[W 2025-03-27 19:07:14,042] Trial 4 failed with value (0.5477495193481445, <Sequential name=sequential_17, built=True>).\n"
     ]
    },
    {
     "name": "stdout",
     "output_type": "stream",
     "text": [
      "Epoch 34: early stopping\n",
      "Restoring model weights from the end of the best epoch: 24.\n"
     ]
    },
    {
     "name": "stderr",
     "output_type": "stream",
     "text": [
      "[W 2025-03-27 19:07:24,818] Trial 5 failed with parameters: {'learnin_rate': 0.006215997447486159, 'n_layers': 3, 'neurons_of_layer0': 64, 'dropout_of_layer0': 0.2562966117175531, 'neurons_of_layer1': 64, 'dropout_of_layer1': 0.15790001208016088, 'neurons_of_layer2': 64, 'dropout_of_layer2': 0.035937818113450155, 'batch_size': 124} because of the following error: The value <Sequential name=sequential_18, built=True> could not be cast to float.\n",
      "[W 2025-03-27 19:07:24,818] Trial 5 failed with value (0.554111123085022, <Sequential name=sequential_18, built=True>).\n"
     ]
    },
    {
     "name": "stdout",
     "output_type": "stream",
     "text": [
      "Epoch 24: early stopping\n",
      "Restoring model weights from the end of the best epoch: 14.\n"
     ]
    },
    {
     "name": "stderr",
     "output_type": "stream",
     "text": [
      "[W 2025-03-27 19:08:48,601] Trial 6 failed with parameters: {'learnin_rate': 0.0001945758624140733, 'n_layers': 2, 'neurons_of_layer0': 512, 'dropout_of_layer0': 0.05498804911655165, 'neurons_of_layer1': 128, 'dropout_of_layer1': 0.16960082683023567, 'batch_size': 16} because of the following error: The value <Sequential name=sequential_19, built=True> could not be cast to float.\n",
      "[W 2025-03-27 19:08:48,602] Trial 6 failed with value (0.5390401482582092, <Sequential name=sequential_19, built=True>).\n"
     ]
    },
    {
     "name": "stdout",
     "output_type": "stream",
     "text": [
      "Epoch 20: early stopping\n",
      "Restoring model weights from the end of the best epoch: 10.\n"
     ]
    },
    {
     "name": "stderr",
     "output_type": "stream",
     "text": [
      "[W 2025-03-27 19:09:21,788] Trial 7 failed with parameters: {'learnin_rate': 0.08434731786974888, 'n_layers': 3, 'neurons_of_layer0': 128, 'dropout_of_layer0': 0.09459059476242403, 'neurons_of_layer1': 32, 'dropout_of_layer1': 0.14310717067598527, 'neurons_of_layer2': 64, 'dropout_of_layer2': 0.21852152792679164, 'batch_size': 16} because of the following error: The value <Sequential name=sequential_20, built=True> could not be cast to float.\n",
      "[W 2025-03-27 19:09:21,788] Trial 7 failed with value (0.997955858707428, <Sequential name=sequential_20, built=True>).\n"
     ]
    },
    {
     "name": "stdout",
     "output_type": "stream",
     "text": [
      "Epoch 29: early stopping\n",
      "Restoring model weights from the end of the best epoch: 19.\n"
     ]
    },
    {
     "name": "stderr",
     "output_type": "stream",
     "text": [
      "[W 2025-03-27 19:10:49,318] Trial 8 failed with parameters: {'learnin_rate': 0.0013961497935111459, 'n_layers': 2, 'neurons_of_layer0': 128, 'dropout_of_layer0': 0.11747513335276367, 'neurons_of_layer1': 32, 'dropout_of_layer1': 0.11455414801618764, 'batch_size': 8} because of the following error: The value <Sequential name=sequential_21, built=True> could not be cast to float.\n",
      "[W 2025-03-27 19:10:49,319] Trial 8 failed with value (0.549930989742279, <Sequential name=sequential_21, built=True>).\n"
     ]
    },
    {
     "name": "stdout",
     "output_type": "stream",
     "text": [
      "Epoch 22: early stopping\n",
      "Restoring model weights from the end of the best epoch: 12.\n"
     ]
    },
    {
     "name": "stderr",
     "output_type": "stream",
     "text": [
      "[W 2025-03-27 19:14:17,276] Trial 9 failed with parameters: {'learnin_rate': 0.001335279232827052, 'n_layers': 4, 'neurons_of_layer0': 512, 'dropout_of_layer0': 0.11225276908908395, 'neurons_of_layer1': 256, 'dropout_of_layer1': 0.12736078264115208, 'neurons_of_layer2': 128, 'dropout_of_layer2': 0.11047213856788562, 'neurons_of_layer3': 512, 'dropout_of_layer3': 0.262715487294093, 'batch_size': 8} because of the following error: The value <Sequential name=sequential_22, built=True> could not be cast to float.\n",
      "[W 2025-03-27 19:14:17,277] Trial 9 failed with value (0.5598397254943848, <Sequential name=sequential_22, built=True>).\n"
     ]
    },
    {
     "name": "stdout",
     "output_type": "stream",
     "text": [
      "Epoch 18: early stopping\n",
      "Restoring model weights from the end of the best epoch: 8.\n"
     ]
    },
    {
     "name": "stderr",
     "output_type": "stream",
     "text": [
      "[W 2025-03-27 19:14:58,500] Trial 10 failed with parameters: {'learnin_rate': 0.0004352780475594851, 'n_layers': 5, 'neurons_of_layer0': 256, 'dropout_of_layer0': 0.06134835194881227, 'neurons_of_layer1': 256, 'dropout_of_layer1': 0.08798205767953898, 'neurons_of_layer2': 512, 'dropout_of_layer2': 0.26987155207874913, 'neurons_of_layer3': 64, 'dropout_of_layer3': 0.16728956891987473, 'neurons_of_layer4': 32, 'dropout_of_layer4': 0.21447463593427174, 'batch_size': 32} because of the following error: The value <Sequential name=sequential_23, built=True> could not be cast to float.\n",
      "[W 2025-03-27 19:14:58,501] Trial 10 failed with value (0.5483016967773438, <Sequential name=sequential_23, built=True>).\n"
     ]
    },
    {
     "name": "stdout",
     "output_type": "stream",
     "text": [
      "Epoch 51: early stopping\n",
      "Restoring model weights from the end of the best epoch: 41.\n"
     ]
    },
    {
     "name": "stderr",
     "output_type": "stream",
     "text": [
      "[W 2025-03-27 19:16:52,794] Trial 11 failed with parameters: {'learnin_rate': 0.00012126807555324239, 'n_layers': 3, 'neurons_of_layer0': 512, 'dropout_of_layer0': 0.3472321544065225, 'neurons_of_layer1': 128, 'dropout_of_layer1': 0.08968412692680577, 'neurons_of_layer2': 128, 'dropout_of_layer2': 0.3131833883745429, 'batch_size': 32} because of the following error: The value <Sequential name=sequential_24, built=True> could not be cast to float.\n",
      "[W 2025-03-27 19:16:52,794] Trial 11 failed with value (0.5365567803382874, <Sequential name=sequential_24, built=True>).\n"
     ]
    },
    {
     "name": "stdout",
     "output_type": "stream",
     "text": [
      "Epoch 23: early stopping\n",
      "Restoring model weights from the end of the best epoch: 13.\n"
     ]
    },
    {
     "name": "stderr",
     "output_type": "stream",
     "text": [
      "[W 2025-03-27 19:17:02,553] Trial 12 failed with parameters: {'learnin_rate': 0.005131891696365421, 'n_layers': 4, 'neurons_of_layer0': 32, 'dropout_of_layer0': 0.2535838732128252, 'neurons_of_layer1': 64, 'dropout_of_layer1': 0.05775851194514536, 'neurons_of_layer2': 256, 'dropout_of_layer2': 0.34727256898978237, 'neurons_of_layer3': 256, 'dropout_of_layer3': 0.14787539988705994, 'batch_size': 124} because of the following error: The value <Sequential name=sequential_25, built=True> could not be cast to float.\n",
      "[W 2025-03-27 19:17:02,553] Trial 12 failed with value (0.5630050301551819, <Sequential name=sequential_25, built=True>).\n"
     ]
    },
    {
     "name": "stdout",
     "output_type": "stream",
     "text": [
      "Epoch 31: early stopping\n",
      "Restoring model weights from the end of the best epoch: 21.\n"
     ]
    },
    {
     "name": "stderr",
     "output_type": "stream",
     "text": [
      "[W 2025-03-27 19:17:40,704] Trial 13 failed with parameters: {'learnin_rate': 0.010271336747270944, 'n_layers': 2, 'neurons_of_layer0': 64, 'dropout_of_layer0': 0.10907405372658993, 'neurons_of_layer1': 64, 'dropout_of_layer1': 0.22818736807102924, 'batch_size': 16} because of the following error: The value <Sequential name=sequential_26, built=True> could not be cast to float.\n",
      "[W 2025-03-27 19:17:40,704] Trial 13 failed with value (0.5839551091194153, <Sequential name=sequential_26, built=True>).\n"
     ]
    },
    {
     "name": "stdout",
     "output_type": "stream",
     "text": [
      "Epoch 30: early stopping\n",
      "Restoring model weights from the end of the best epoch: 20.\n"
     ]
    },
    {
     "name": "stderr",
     "output_type": "stream",
     "text": [
      "[W 2025-03-27 19:20:28,868] Trial 14 failed with parameters: {'learnin_rate': 0.0015439220917122657, 'n_layers': 1, 'neurons_of_layer0': 512, 'dropout_of_layer0': 0.23971273347111868, 'batch_size': 8} because of the following error: The value <Sequential name=sequential_27, built=True> could not be cast to float.\n",
      "[W 2025-03-27 19:20:28,869] Trial 14 failed with value (0.5613917708396912, <Sequential name=sequential_27, built=True>).\n"
     ]
    },
    {
     "name": "stdout",
     "output_type": "stream",
     "text": [
      "Epoch 31: early stopping\n",
      "Restoring model weights from the end of the best epoch: 21.\n"
     ]
    },
    {
     "name": "stderr",
     "output_type": "stream",
     "text": [
      "[W 2025-03-27 19:21:34,509] Trial 15 failed with parameters: {'learnin_rate': 0.0019560282656398923, 'n_layers': 1, 'neurons_of_layer0': 64, 'dropout_of_layer0': 0.02769575565014564, 'batch_size': 8} because of the following error: The value <Sequential name=sequential_28, built=True> could not be cast to float.\n",
      "[W 2025-03-27 19:21:34,510] Trial 15 failed with value (0.5565761923789978, <Sequential name=sequential_28, built=True>).\n"
     ]
    },
    {
     "name": "stdout",
     "output_type": "stream",
     "text": [
      "Epoch 29: early stopping\n",
      "Restoring model weights from the end of the best epoch: 19.\n"
     ]
    },
    {
     "name": "stderr",
     "output_type": "stream",
     "text": [
      "[W 2025-03-27 19:24:35,771] Trial 16 failed with parameters: {'learnin_rate': 0.0009947153088863308, 'n_layers': 3, 'neurons_of_layer0': 512, 'dropout_of_layer0': 0.04217722582317364, 'neurons_of_layer1': 32, 'dropout_of_layer1': 0.18001554751198376, 'neurons_of_layer2': 256, 'dropout_of_layer2': 0.07261070414487902, 'batch_size': 8} because of the following error: The value <Sequential name=sequential_29, built=True> could not be cast to float.\n",
      "[W 2025-03-27 19:24:35,771] Trial 16 failed with value (0.5528527498245239, <Sequential name=sequential_29, built=True>).\n"
     ]
    },
    {
     "name": "stdout",
     "output_type": "stream",
     "text": [
      "Epoch 17: early stopping\n",
      "Restoring model weights from the end of the best epoch: 7.\n"
     ]
    },
    {
     "name": "stderr",
     "output_type": "stream",
     "text": [
      "[W 2025-03-27 19:24:51,076] Trial 17 failed with parameters: {'learnin_rate': 0.06388565137662418, 'n_layers': 6, 'neurons_of_layer0': 512, 'dropout_of_layer0': 0.004979278616367655, 'neurons_of_layer1': 32, 'dropout_of_layer1': 0.17016194471140605, 'neurons_of_layer2': 64, 'dropout_of_layer2': 0.3094398361857021, 'neurons_of_layer3': 512, 'dropout_of_layer3': 0.10996225770067727, 'neurons_of_layer4': 32, 'dropout_of_layer4': 0.34685947861030103, 'neurons_of_layer5': 128, 'dropout_of_layer5': 0.1716384479295571, 'batch_size': 124} because of the following error: The value <Sequential name=sequential_30, built=True> could not be cast to float.\n",
      "[W 2025-03-27 19:24:51,077] Trial 17 failed with value (0.9983993172645569, <Sequential name=sequential_30, built=True>).\n"
     ]
    },
    {
     "name": "stdout",
     "output_type": "stream",
     "text": [
      "Epoch 31: early stopping\n",
      "Restoring model weights from the end of the best epoch: 21.\n"
     ]
    },
    {
     "name": "stderr",
     "output_type": "stream",
     "text": [
      "[W 2025-03-27 19:25:40,982] Trial 18 failed with parameters: {'learnin_rate': 0.006612867615730921, 'n_layers': 4, 'neurons_of_layer0': 64, 'dropout_of_layer0': 0.1833049085429248, 'neurons_of_layer1': 128, 'dropout_of_layer1': 0.06466229873946111, 'neurons_of_layer2': 64, 'dropout_of_layer2': 0.06240101791362834, 'neurons_of_layer3': 512, 'dropout_of_layer3': 0.048880390892334084, 'batch_size': 16} because of the following error: The value <Sequential name=sequential_31, built=True> could not be cast to float.\n",
      "[W 2025-03-27 19:25:40,983] Trial 18 failed with value (0.5627439618110657, <Sequential name=sequential_31, built=True>).\n"
     ]
    },
    {
     "name": "stdout",
     "output_type": "stream",
     "text": [
      "Epoch 41: early stopping\n",
      "Restoring model weights from the end of the best epoch: 31.\n"
     ]
    },
    {
     "name": "stderr",
     "output_type": "stream",
     "text": [
      "[W 2025-03-27 19:26:46,836] Trial 19 failed with parameters: {'learnin_rate': 0.006344037143109852, 'n_layers': 2, 'neurons_of_layer0': 32, 'dropout_of_layer0': 0.267960506508365, 'neurons_of_layer1': 32, 'dropout_of_layer1': 0.2120388192717628, 'batch_size': 8} because of the following error: The value <Sequential name=sequential_32, built=True> could not be cast to float.\n",
      "[W 2025-03-27 19:26:46,837] Trial 19 failed with value (0.5841895937919617, <Sequential name=sequential_32, built=True>).\n"
     ]
    },
    {
     "name": "stdout",
     "output_type": "stream",
     "text": [
      "Epoch 23: early stopping\n",
      "Restoring model weights from the end of the best epoch: 13.\n"
     ]
    },
    {
     "name": "stderr",
     "output_type": "stream",
     "text": [
      "[W 2025-03-27 19:31:22,999] Trial 20 failed with parameters: {'learnin_rate': 0.0014123068504615698, 'n_layers': 4, 'neurons_of_layer0': 512, 'dropout_of_layer0': 0.28090822400045884, 'neurons_of_layer1': 512, 'dropout_of_layer1': 0.05488490462666807, 'neurons_of_layer2': 512, 'dropout_of_layer2': 0.2704541531052737, 'neurons_of_layer3': 256, 'dropout_of_layer3': 0.0714235276469018, 'batch_size': 8} because of the following error: The value <Sequential name=sequential_33, built=True> could not be cast to float.\n",
      "[W 2025-03-27 19:31:22,999] Trial 20 failed with value (0.5584216117858887, <Sequential name=sequential_33, built=True>).\n"
     ]
    },
    {
     "name": "stdout",
     "output_type": "stream",
     "text": [
      "Epoch 38: early stopping\n",
      "Restoring model weights from the end of the best epoch: 28.\n"
     ]
    },
    {
     "name": "stderr",
     "output_type": "stream",
     "text": [
      "[W 2025-03-27 19:33:10,597] Trial 21 failed with parameters: {'learnin_rate': 0.00010076606735048279, 'n_layers': 4, 'neurons_of_layer0': 64, 'dropout_of_layer0': 0.08592704303462517, 'neurons_of_layer1': 256, 'dropout_of_layer1': 0.0921947582240641, 'neurons_of_layer2': 64, 'dropout_of_layer2': 0.28285700039590816, 'neurons_of_layer3': 64, 'dropout_of_layer3': 0.18073380051985047, 'batch_size': 8} because of the following error: The value <Sequential name=sequential_34, built=True> could not be cast to float.\n",
      "[W 2025-03-27 19:33:10,597] Trial 21 failed with value (0.5485853552818298, <Sequential name=sequential_34, built=True>).\n"
     ]
    },
    {
     "name": "stdout",
     "output_type": "stream",
     "text": [
      "Epoch 24: early stopping\n",
      "Restoring model weights from the end of the best epoch: 14.\n"
     ]
    },
    {
     "name": "stderr",
     "output_type": "stream",
     "text": [
      "[W 2025-03-27 19:34:06,830] Trial 22 failed with parameters: {'learnin_rate': 0.019197474260528393, 'n_layers': 6, 'neurons_of_layer0': 64, 'dropout_of_layer0': 0.25897238685635143, 'neurons_of_layer1': 128, 'dropout_of_layer1': 0.22090405952678024, 'neurons_of_layer2': 32, 'dropout_of_layer2': 0.11511789141173033, 'neurons_of_layer3': 128, 'dropout_of_layer3': 0.23346022520753773, 'neurons_of_layer4': 512, 'dropout_of_layer4': 0.213088275188742, 'neurons_of_layer5': 64, 'dropout_of_layer5': 0.3010570190386045, 'batch_size': 16} because of the following error: The value <Sequential name=sequential_35, built=True> could not be cast to float.\n",
      "[W 2025-03-27 19:34:06,831] Trial 22 failed with value (0.9979584217071533, <Sequential name=sequential_35, built=True>).\n"
     ]
    },
    {
     "name": "stdout",
     "output_type": "stream",
     "text": [
      "Epoch 26: early stopping\n",
      "Restoring model weights from the end of the best epoch: 16.\n"
     ]
    },
    {
     "name": "stderr",
     "output_type": "stream",
     "text": [
      "[W 2025-03-27 19:35:04,671] Trial 23 failed with parameters: {'learnin_rate': 0.05902583315680876, 'n_layers': 4, 'neurons_of_layer0': 512, 'dropout_of_layer0': 0.007785152698560987, 'neurons_of_layer1': 64, 'dropout_of_layer1': 0.0013185208221812295, 'neurons_of_layer2': 64, 'dropout_of_layer2': 0.08951443311307901, 'neurons_of_layer3': 128, 'dropout_of_layer3': 0.12862968657134702, 'batch_size': 32} because of the following error: The value <Sequential name=sequential_36, built=True> could not be cast to float.\n",
      "[W 2025-03-27 19:35:04,671] Trial 23 failed with value (0.9979750514030457, <Sequential name=sequential_36, built=True>).\n"
     ]
    },
    {
     "name": "stdout",
     "output_type": "stream",
     "text": [
      "Epoch 34: early stopping\n",
      "Restoring model weights from the end of the best epoch: 24.\n"
     ]
    },
    {
     "name": "stderr",
     "output_type": "stream",
     "text": [
      "[W 2025-03-27 19:38:20,776] Trial 24 failed with parameters: {'learnin_rate': 0.0015812174356049761, 'n_layers': 5, 'neurons_of_layer0': 128, 'dropout_of_layer0': 0.28050332770921116, 'neurons_of_layer1': 512, 'dropout_of_layer1': 0.0727625043396156, 'neurons_of_layer2': 128, 'dropout_of_layer2': 0.3093288916511781, 'neurons_of_layer3': 128, 'dropout_of_layer3': 0.06447536628144838, 'neurons_of_layer4': 64, 'dropout_of_layer4': 0.28203495253580446, 'batch_size': 8} because of the following error: The value <Sequential name=sequential_37, built=True> could not be cast to float.\n",
      "[W 2025-03-27 19:38:20,776] Trial 24 failed with value (0.5716307163238525, <Sequential name=sequential_37, built=True>).\n"
     ]
    },
    {
     "name": "stdout",
     "output_type": "stream",
     "text": [
      "Epoch 32: early stopping\n",
      "Restoring model weights from the end of the best epoch: 22.\n"
     ]
    },
    {
     "name": "stderr",
     "output_type": "stream",
     "text": [
      "[W 2025-03-27 19:38:34,460] Trial 25 failed with parameters: {'learnin_rate': 0.006818230276892251, 'n_layers': 6, 'neurons_of_layer0': 32, 'dropout_of_layer0': 0.14223027666596433, 'neurons_of_layer1': 64, 'dropout_of_layer1': 0.12469324367644607, 'neurons_of_layer2': 64, 'dropout_of_layer2': 0.14943047939302373, 'neurons_of_layer3': 512, 'dropout_of_layer3': 0.13753049537621212, 'neurons_of_layer4': 32, 'dropout_of_layer4': 0.0671782856092397, 'neurons_of_layer5': 64, 'dropout_of_layer5': 0.15570060296925806, 'batch_size': 124} because of the following error: The value <Sequential name=sequential_38, built=True> could not be cast to float.\n",
      "[W 2025-03-27 19:38:34,460] Trial 25 failed with value (0.5600016713142395, <Sequential name=sequential_38, built=True>).\n"
     ]
    },
    {
     "name": "stdout",
     "output_type": "stream",
     "text": [
      "Epoch 20: early stopping\n",
      "Restoring model weights from the end of the best epoch: 10.\n"
     ]
    },
    {
     "name": "stderr",
     "output_type": "stream",
     "text": [
      "[W 2025-03-27 19:38:50,772] Trial 26 failed with parameters: {'learnin_rate': 0.033173891887664404, 'n_layers': 1, 'neurons_of_layer0': 64, 'dropout_of_layer0': 0.031792727731607365, 'batch_size': 32} because of the following error: The value <Sequential name=sequential_39, built=True> could not be cast to float.\n",
      "[W 2025-03-27 19:38:50,772] Trial 26 failed with value (0.615660548210144, <Sequential name=sequential_39, built=True>).\n"
     ]
    },
    {
     "name": "stdout",
     "output_type": "stream",
     "text": [
      "Epoch 78: early stopping\n",
      "Restoring model weights from the end of the best epoch: 68.\n"
     ]
    },
    {
     "name": "stderr",
     "output_type": "stream",
     "text": [
      "[W 2025-03-27 19:45:05,098] Trial 27 failed with parameters: {'learnin_rate': 0.00019865477649899573, 'n_layers': 1, 'neurons_of_layer0': 32, 'dropout_of_layer0': 0.19102837004297046, 'batch_size': 124} because of the following error: The value <Sequential name=sequential_40, built=True> could not be cast to float.\n",
      "[W 2025-03-27 19:45:05,098] Trial 27 failed with value (0.545082151889801, <Sequential name=sequential_40, built=True>).\n"
     ]
    },
    {
     "name": "stdout",
     "output_type": "stream",
     "text": [
      "Epoch 11: early stopping\n",
      "Restoring model weights from the end of the best epoch: 1.\n"
     ]
    },
    {
     "name": "stderr",
     "output_type": "stream",
     "text": [
      "[W 2025-03-27 19:58:03,450] Trial 28 failed with parameters: {'learnin_rate': 0.006263698112117859, 'n_layers': 4, 'neurons_of_layer0': 512, 'dropout_of_layer0': 0.06889157677753668, 'neurons_of_layer1': 128, 'dropout_of_layer1': 0.23578966861363426, 'neurons_of_layer2': 256, 'dropout_of_layer2': 0.2587096683333361, 'neurons_of_layer3': 256, 'dropout_of_layer3': 0.005695645588450898, 'batch_size': 16} because of the following error: The value <Sequential name=sequential_41, built=True> could not be cast to float.\n",
      "[W 2025-03-27 19:58:03,450] Trial 28 failed with value (0.6667555570602417, <Sequential name=sequential_41, built=True>).\n"
     ]
    },
    {
     "name": "stdout",
     "output_type": "stream",
     "text": [
      "Epoch 30: early stopping\n",
      "Restoring model weights from the end of the best epoch: 20.\n"
     ]
    },
    {
     "name": "stderr",
     "output_type": "stream",
     "text": [
      "[W 2025-03-27 19:58:15,647] Trial 29 failed with parameters: {'learnin_rate': 0.008484983742167116, 'n_layers': 3, 'neurons_of_layer0': 128, 'dropout_of_layer0': 0.3414631911862034, 'neurons_of_layer1': 32, 'dropout_of_layer1': 0.18248130653576938, 'neurons_of_layer2': 64, 'dropout_of_layer2': 0.2048224528115295, 'batch_size': 124} because of the following error: The value <Sequential name=sequential_42, built=True> could not be cast to float.\n",
      "[W 2025-03-27 19:58:15,647] Trial 29 failed with value (0.5556278824806213, <Sequential name=sequential_42, built=True>).\n"
     ]
    },
    {
     "name": "stdout",
     "output_type": "stream",
     "text": [
      "Epoch 33: early stopping\n",
      "Restoring model weights from the end of the best epoch: 23.\n"
     ]
    },
    {
     "name": "stderr",
     "output_type": "stream",
     "text": [
      "[W 2025-03-27 19:59:03,168] Trial 30 failed with parameters: {'learnin_rate': 0.0053459544413944375, 'n_layers': 6, 'neurons_of_layer0': 64, 'dropout_of_layer0': 0.012727916873071348, 'neurons_of_layer1': 512, 'dropout_of_layer1': 0.13149666255331696, 'neurons_of_layer2': 128, 'dropout_of_layer2': 0.042261738945077655, 'neurons_of_layer3': 32, 'dropout_of_layer3': 0.19467850311962964, 'neurons_of_layer4': 128, 'dropout_of_layer4': 0.26286753197727486, 'neurons_of_layer5': 256, 'dropout_of_layer5': 0.03234707288722682, 'batch_size': 32} because of the following error: The value <Sequential name=sequential_43, built=True> could not be cast to float.\n",
      "[W 2025-03-27 19:59:03,169] Trial 30 failed with value (0.5637388229370117, <Sequential name=sequential_43, built=True>).\n"
     ]
    },
    {
     "name": "stdout",
     "output_type": "stream",
     "text": [
      "Epoch 33: early stopping\n",
      "Restoring model weights from the end of the best epoch: 23.\n"
     ]
    },
    {
     "name": "stderr",
     "output_type": "stream",
     "text": [
      "[W 2025-03-27 19:59:52,133] Trial 31 failed with parameters: {'learnin_rate': 0.00375802106980189, 'n_layers': 2, 'neurons_of_layer0': 64, 'dropout_of_layer0': 0.3483648260088257, 'neurons_of_layer1': 64, 'dropout_of_layer1': 0.3445762157547911, 'batch_size': 16} because of the following error: The value <Sequential name=sequential_44, built=True> could not be cast to float.\n",
      "[W 2025-03-27 19:59:52,134] Trial 31 failed with value (0.5731022953987122, <Sequential name=sequential_44, built=True>).\n"
     ]
    },
    {
     "name": "stdout",
     "output_type": "stream",
     "text": [
      "Epoch 21: early stopping\n",
      "Restoring model weights from the end of the best epoch: 11.\n"
     ]
    },
    {
     "name": "stderr",
     "output_type": "stream",
     "text": [
      "[W 2025-03-27 20:00:19,747] Trial 32 failed with parameters: {'learnin_rate': 0.0004147924239025915, 'n_layers': 5, 'neurons_of_layer0': 512, 'dropout_of_layer0': 0.045089923160719025, 'neurons_of_layer1': 256, 'dropout_of_layer1': 0.13830817677976276, 'neurons_of_layer2': 256, 'dropout_of_layer2': 0.08797423045279, 'neurons_of_layer3': 512, 'dropout_of_layer3': 0.2969876029880398, 'neurons_of_layer4': 512, 'dropout_of_layer4': 0.156183919275224, 'batch_size': 124} because of the following error: The value <Sequential name=sequential_45, built=True> could not be cast to float.\n",
      "[W 2025-03-27 20:00:19,747] Trial 32 failed with value (0.5450956225395203, <Sequential name=sequential_45, built=True>).\n"
     ]
    },
    {
     "name": "stdout",
     "output_type": "stream",
     "text": [
      "Epoch 15: early stopping\n",
      "Restoring model weights from the end of the best epoch: 5.\n"
     ]
    },
    {
     "name": "stderr",
     "output_type": "stream",
     "text": [
      "[W 2025-03-27 20:00:28,195] Trial 33 failed with parameters: {'learnin_rate': 0.0032508550716363123, 'n_layers': 5, 'neurons_of_layer0': 32, 'dropout_of_layer0': 0.31795950413406754, 'neurons_of_layer1': 64, 'dropout_of_layer1': 0.2936397587217623, 'neurons_of_layer2': 256, 'dropout_of_layer2': 0.2604178233100391, 'neurons_of_layer3': 128, 'dropout_of_layer3': 0.3361367934312758, 'neurons_of_layer4': 512, 'dropout_of_layer4': 0.25810193173098667, 'batch_size': 124} because of the following error: The value <Sequential name=sequential_46, built=True> could not be cast to float.\n",
      "[W 2025-03-27 20:00:28,196] Trial 33 failed with value (0.6104872822761536, <Sequential name=sequential_46, built=True>).\n"
     ]
    },
    {
     "name": "stdout",
     "output_type": "stream",
     "text": [
      "Epoch 22: early stopping\n",
      "Restoring model weights from the end of the best epoch: 12.\n"
     ]
    },
    {
     "name": "stderr",
     "output_type": "stream",
     "text": [
      "[W 2025-03-27 20:01:02,627] Trial 34 failed with parameters: {'learnin_rate': 0.0011991465431510024, 'n_layers': 1, 'neurons_of_layer0': 128, 'dropout_of_layer0': 0.0014598247443432522, 'batch_size': 16} because of the following error: The value <Sequential name=sequential_47, built=True> could not be cast to float.\n",
      "[W 2025-03-27 20:01:02,628] Trial 34 failed with value (0.5532314777374268, <Sequential name=sequential_47, built=True>).\n"
     ]
    },
    {
     "name": "stdout",
     "output_type": "stream",
     "text": [
      "Epoch 31: early stopping\n",
      "Restoring model weights from the end of the best epoch: 21.\n"
     ]
    },
    {
     "name": "stderr",
     "output_type": "stream",
     "text": [
      "[W 2025-03-27 20:01:21,214] Trial 35 failed with parameters: {'learnin_rate': 0.005528981164488318, 'n_layers': 4, 'neurons_of_layer0': 32, 'dropout_of_layer0': 0.0013052560026110271, 'neurons_of_layer1': 64, 'dropout_of_layer1': 0.2775989133317239, 'neurons_of_layer2': 128, 'dropout_of_layer2': 0.31032173693119547, 'neurons_of_layer3': 64, 'dropout_of_layer3': 0.15027131042508077, 'batch_size': 32} because of the following error: The value <Sequential name=sequential_48, built=True> could not be cast to float.\n",
      "[W 2025-03-27 20:01:21,214] Trial 35 failed with value (0.5729548335075378, <Sequential name=sequential_48, built=True>).\n"
     ]
    },
    {
     "name": "stdout",
     "output_type": "stream",
     "text": [
      "Epoch 17: early stopping\n",
      "Restoring model weights from the end of the best epoch: 7.\n"
     ]
    },
    {
     "name": "stderr",
     "output_type": "stream",
     "text": [
      "[W 2025-03-27 20:02:55,496] Trial 36 failed with parameters: {'learnin_rate': 0.013469988872512195, 'n_layers': 6, 'neurons_of_layer0': 256, 'dropout_of_layer0': 0.18798704362193158, 'neurons_of_layer1': 128, 'dropout_of_layer1': 0.3080770226568272, 'neurons_of_layer2': 256, 'dropout_of_layer2': 0.021745475464979284, 'neurons_of_layer3': 32, 'dropout_of_layer3': 0.15293590108009186, 'neurons_of_layer4': 256, 'dropout_of_layer4': 0.0824567904968587, 'neurons_of_layer5': 128, 'dropout_of_layer5': 0.1744685629784738, 'batch_size': 8} because of the following error: The value <Sequential name=sequential_49, built=True> could not be cast to float.\n",
      "[W 2025-03-27 20:02:55,496] Trial 36 failed with value (0.9979565739631653, <Sequential name=sequential_49, built=True>).\n"
     ]
    },
    {
     "name": "stdout",
     "output_type": "stream",
     "text": [
      "Epoch 21: early stopping\n",
      "Restoring model weights from the end of the best epoch: 11.\n"
     ]
    },
    {
     "name": "stderr",
     "output_type": "stream",
     "text": [
      "[W 2025-03-27 20:03:01,408] Trial 37 failed with parameters: {'learnin_rate': 0.00904477336625666, 'n_layers': 1, 'neurons_of_layer0': 64, 'dropout_of_layer0': 0.06927245175144847, 'batch_size': 124} because of the following error: The value <Sequential name=sequential_50, built=True> could not be cast to float.\n",
      "[W 2025-03-27 20:03:01,409] Trial 37 failed with value (0.5574446320533752, <Sequential name=sequential_50, built=True>).\n"
     ]
    },
    {
     "name": "stdout",
     "output_type": "stream",
     "text": [
      "Epoch 17: early stopping\n",
      "Restoring model weights from the end of the best epoch: 7.\n"
     ]
    },
    {
     "name": "stderr",
     "output_type": "stream",
     "text": [
      "[W 2025-03-27 20:03:49,052] Trial 38 failed with parameters: {'learnin_rate': 0.022107461020809002, 'n_layers': 5, 'neurons_of_layer0': 256, 'dropout_of_layer0': 0.023732624680663138, 'neurons_of_layer1': 32, 'dropout_of_layer1': 0.19292152223737072, 'neurons_of_layer2': 512, 'dropout_of_layer2': 0.08855500511152163, 'neurons_of_layer3': 64, 'dropout_of_layer3': 0.11382652969028222, 'neurons_of_layer4': 32, 'dropout_of_layer4': 0.24681760862209084, 'batch_size': 16} because of the following error: The value <Sequential name=sequential_51, built=True> could not be cast to float.\n",
      "[W 2025-03-27 20:03:49,052] Trial 38 failed with value (0.9979700446128845, <Sequential name=sequential_51, built=True>).\n"
     ]
    },
    {
     "name": "stdout",
     "output_type": "stream",
     "text": [
      "Epoch 16: early stopping\n",
      "Restoring model weights from the end of the best epoch: 6.\n"
     ]
    },
    {
     "name": "stderr",
     "output_type": "stream",
     "text": [
      "[W 2025-03-27 20:03:59,023] Trial 39 failed with parameters: {'learnin_rate': 0.0542020099440222, 'n_layers': 3, 'neurons_of_layer0': 32, 'dropout_of_layer0': 0.20219616326095127, 'neurons_of_layer1': 64, 'dropout_of_layer1': 0.18435767927781108, 'neurons_of_layer2': 32, 'dropout_of_layer2': 0.24462690102910897, 'batch_size': 32} because of the following error: The value <Sequential name=sequential_52, built=True> could not be cast to float.\n",
      "[W 2025-03-27 20:03:59,023] Trial 39 failed with value (0.9980630278587341, <Sequential name=sequential_52, built=True>).\n"
     ]
    },
    {
     "name": "stdout",
     "output_type": "stream",
     "text": [
      "Epoch 65: early stopping\n",
      "Restoring model weights from the end of the best epoch: 55.\n"
     ]
    },
    {
     "name": "stderr",
     "output_type": "stream",
     "text": [
      "[W 2025-03-27 20:05:09,497] Trial 40 failed with parameters: {'learnin_rate': 0.0005319253516555768, 'n_layers': 6, 'neurons_of_layer0': 128, 'dropout_of_layer0': 0.3221675988384408, 'neurons_of_layer1': 32, 'dropout_of_layer1': 0.09528770122993858, 'neurons_of_layer2': 128, 'dropout_of_layer2': 0.2585907622426215, 'neurons_of_layer3': 64, 'dropout_of_layer3': 0.13704574302551417, 'neurons_of_layer4': 64, 'dropout_of_layer4': 0.055189474563750535, 'neurons_of_layer5': 128, 'dropout_of_layer5': 0.2362348364315564, 'batch_size': 32} because of the following error: The value <Sequential name=sequential_53, built=True> could not be cast to float.\n",
      "[W 2025-03-27 20:05:09,498] Trial 40 failed with value (0.5404307246208191, <Sequential name=sequential_53, built=True>).\n"
     ]
    },
    {
     "name": "stdout",
     "output_type": "stream",
     "text": [
      "Epoch 20: early stopping\n",
      "Restoring model weights from the end of the best epoch: 10.\n"
     ]
    },
    {
     "name": "stderr",
     "output_type": "stream",
     "text": [
      "[W 2025-03-27 20:05:18,567] Trial 41 failed with parameters: {'learnin_rate': 0.02017431650531367, 'n_layers': 4, 'neurons_of_layer0': 32, 'dropout_of_layer0': 0.027432229500636916, 'neurons_of_layer1': 512, 'dropout_of_layer1': 0.21156911758463018, 'neurons_of_layer2': 128, 'dropout_of_layer2': 0.2399114173703923, 'neurons_of_layer3': 32, 'dropout_of_layer3': 0.2440957234584479, 'batch_size': 124} because of the following error: The value <Sequential name=sequential_54, built=True> could not be cast to float.\n",
      "[W 2025-03-27 20:05:18,568] Trial 41 failed with value (0.6410693526268005, <Sequential name=sequential_54, built=True>).\n"
     ]
    },
    {
     "name": "stdout",
     "output_type": "stream",
     "text": [
      "Epoch 46: early stopping\n",
      "Restoring model weights from the end of the best epoch: 36.\n"
     ]
    },
    {
     "name": "stderr",
     "output_type": "stream",
     "text": [
      "[W 2025-03-27 20:06:39,012] Trial 42 failed with parameters: {'learnin_rate': 0.0004229925175271053, 'n_layers': 1, 'neurons_of_layer0': 512, 'dropout_of_layer0': 0.2852787691111938, 'batch_size': 32} because of the following error: The value <Sequential name=sequential_55, built=True> could not be cast to float.\n",
      "[W 2025-03-27 20:06:39,012] Trial 42 failed with value (0.5407039523124695, <Sequential name=sequential_55, built=True>).\n"
     ]
    },
    {
     "name": "stdout",
     "output_type": "stream",
     "text": [
      "Epoch 36: early stopping\n",
      "Restoring model weights from the end of the best epoch: 26.\n"
     ]
    },
    {
     "name": "stderr",
     "output_type": "stream",
     "text": [
      "[W 2025-03-27 20:09:14,343] Trial 43 failed with parameters: {'learnin_rate': 0.00011705374681328097, 'n_layers': 5, 'neurons_of_layer0': 32, 'dropout_of_layer0': 0.07161814912480224, 'neurons_of_layer1': 256, 'dropout_of_layer1': 0.1156827735136987, 'neurons_of_layer2': 512, 'dropout_of_layer2': 0.2377398451658456, 'neurons_of_layer3': 512, 'dropout_of_layer3': 0.24012491264601768, 'neurons_of_layer4': 128, 'dropout_of_layer4': 0.015338081477821501, 'batch_size': 16} because of the following error: The value <Sequential name=sequential_56, built=True> could not be cast to float.\n",
      "[W 2025-03-27 20:09:14,343] Trial 43 failed with value (0.5441581606864929, <Sequential name=sequential_56, built=True>).\n"
     ]
    },
    {
     "name": "stdout",
     "output_type": "stream",
     "text": [
      "Epoch 15: early stopping\n",
      "Restoring model weights from the end of the best epoch: 5.\n"
     ]
    },
    {
     "name": "stderr",
     "output_type": "stream",
     "text": [
      "[W 2025-03-27 20:09:32,276] Trial 44 failed with parameters: {'learnin_rate': 0.0971662737430133, 'n_layers': 6, 'neurons_of_layer0': 64, 'dropout_of_layer0': 0.07678136458616316, 'neurons_of_layer1': 128, 'dropout_of_layer1': 0.1935646359231321, 'neurons_of_layer2': 64, 'dropout_of_layer2': 0.1883776784520249, 'neurons_of_layer3': 512, 'dropout_of_layer3': 0.2376271159095255, 'neurons_of_layer4': 32, 'dropout_of_layer4': 0.19016618640137817, 'neurons_of_layer5': 128, 'dropout_of_layer5': 0.32214093175652064, 'batch_size': 32} because of the following error: The value <Sequential name=sequential_57, built=True> could not be cast to float.\n",
      "[W 2025-03-27 20:09:32,277] Trial 44 failed with value (0.9979597926139832, <Sequential name=sequential_57, built=True>).\n"
     ]
    },
    {
     "name": "stdout",
     "output_type": "stream",
     "text": [
      "Epoch 24: early stopping\n",
      "Restoring model weights from the end of the best epoch: 14.\n"
     ]
    },
    {
     "name": "stderr",
     "output_type": "stream",
     "text": [
      "[W 2025-03-27 20:10:13,013] Trial 45 failed with parameters: {'learnin_rate': 0.012444757633330122, 'n_layers': 1, 'neurons_of_layer0': 128, 'dropout_of_layer0': 0.14923609846417327, 'batch_size': 16} because of the following error: The value <Sequential name=sequential_58, built=True> could not be cast to float.\n",
      "[W 2025-03-27 20:10:13,013] Trial 45 failed with value (0.5991870164871216, <Sequential name=sequential_58, built=True>).\n"
     ]
    },
    {
     "name": "stdout",
     "output_type": "stream",
     "text": [
      "Epoch 29: early stopping\n",
      "Restoring model weights from the end of the best epoch: 19.\n"
     ]
    },
    {
     "name": "stderr",
     "output_type": "stream",
     "text": [
      "[W 2025-03-27 20:10:45,027] Trial 46 failed with parameters: {'learnin_rate': 0.0064081614202715995, 'n_layers': 5, 'neurons_of_layer0': 128, 'dropout_of_layer0': 0.08124862113811529, 'neurons_of_layer1': 512, 'dropout_of_layer1': 0.25436294993123054, 'neurons_of_layer2': 512, 'dropout_of_layer2': 0.021137558898372738, 'neurons_of_layer3': 512, 'dropout_of_layer3': 0.252340668297578, 'neurons_of_layer4': 512, 'dropout_of_layer4': 0.1393199164159372, 'batch_size': 124} because of the following error: The value <Sequential name=sequential_59, built=True> could not be cast to float.\n",
      "[W 2025-03-27 20:10:45,027] Trial 46 failed with value (0.5618844628334045, <Sequential name=sequential_59, built=True>).\n"
     ]
    },
    {
     "name": "stdout",
     "output_type": "stream",
     "text": [
      "Epoch 63: early stopping\n",
      "Restoring model weights from the end of the best epoch: 53.\n"
     ]
    },
    {
     "name": "stderr",
     "output_type": "stream",
     "text": [
      "[W 2025-03-27 20:11:43,824] Trial 47 failed with parameters: {'learnin_rate': 0.00010186981732427649, 'n_layers': 3, 'neurons_of_layer0': 128, 'dropout_of_layer0': 0.2347200718302767, 'neurons_of_layer1': 32, 'dropout_of_layer1': 0.18020673244126645, 'neurons_of_layer2': 128, 'dropout_of_layer2': 0.2163144261635045, 'batch_size': 32} because of the following error: The value <Sequential name=sequential_60, built=True> could not be cast to float.\n",
      "[W 2025-03-27 20:11:43,825] Trial 47 failed with value (0.5389898419380188, <Sequential name=sequential_60, built=True>).\n"
     ]
    },
    {
     "name": "stdout",
     "output_type": "stream",
     "text": [
      "Epoch 20: early stopping\n",
      "Restoring model weights from the end of the best epoch: 10.\n"
     ]
    },
    {
     "name": "stderr",
     "output_type": "stream",
     "text": [
      "[W 2025-03-27 20:12:06,966] Trial 48 failed with parameters: {'learnin_rate': 0.009910206253590605, 'n_layers': 4, 'neurons_of_layer0': 128, 'dropout_of_layer0': 0.16815179747245346, 'neurons_of_layer1': 32, 'dropout_of_layer1': 0.03238507776875205, 'neurons_of_layer2': 64, 'dropout_of_layer2': 0.2870415646041326, 'neurons_of_layer3': 512, 'dropout_of_layer3': 0.15978425358583148, 'batch_size': 32} because of the following error: The value <Sequential name=sequential_61, built=True> could not be cast to float.\n",
      "[W 2025-03-27 20:12:06,966] Trial 48 failed with value (0.6451274752616882, <Sequential name=sequential_61, built=True>).\n"
     ]
    },
    {
     "name": "stdout",
     "output_type": "stream",
     "text": [
      "Epoch 29: early stopping\n",
      "Restoring model weights from the end of the best epoch: 19.\n"
     ]
    },
    {
     "name": "stderr",
     "output_type": "stream",
     "text": [
      "[W 2025-03-27 20:12:42,322] Trial 49 failed with parameters: {'learnin_rate': 0.0045990284462273726, 'n_layers': 3, 'neurons_of_layer0': 128, 'dropout_of_layer0': 0.13300770183488833, 'neurons_of_layer1': 512, 'dropout_of_layer1': 0.10941498267280986, 'neurons_of_layer2': 32, 'dropout_of_layer2': 0.2919188383190103, 'batch_size': 32} because of the following error: The value <Sequential name=sequential_62, built=True> could not be cast to float.\n",
      "[W 2025-03-27 20:12:42,322] Trial 49 failed with value (0.5549209117889404, <Sequential name=sequential_62, built=True>).\n"
     ]
    },
    {
     "ename": "ValueError",
     "evalue": "No trials are completed yet.",
     "output_type": "error",
     "traceback": [
      "\u001b[0;31m---------------------------------------------------------------------------\u001b[0m",
      "\u001b[0;31mValueError\u001b[0m                                Traceback (most recent call last)",
      "Cell \u001b[0;32mIn[18], line 3\u001b[0m\n\u001b[1;32m      1\u001b[0m study \u001b[38;5;241m=\u001b[39m optuna\u001b[38;5;241m.\u001b[39mcreate_study(direction\u001b[38;5;241m=\u001b[39m\u001b[38;5;124m\"\u001b[39m\u001b[38;5;124mminimize\u001b[39m\u001b[38;5;124m\"\u001b[39m)\n\u001b[1;32m      2\u001b[0m study\u001b[38;5;241m.\u001b[39moptimize(objective, n_trials\u001b[38;5;241m=\u001b[39m\u001b[38;5;241m50\u001b[39m)\n\u001b[0;32m----> 3\u001b[0m \u001b[38;5;28mprint\u001b[39m(study\u001b[38;5;241m.\u001b[39mbest_trial)\n",
      "File \u001b[0;32m~/opt/anaconda3/envs/modelizacion_datos/lib/python3.12/site-packages/optuna/study/study.py:162\u001b[0m, in \u001b[0;36mStudy.best_trial\u001b[0;34m(self)\u001b[0m\n\u001b[1;32m    156\u001b[0m \u001b[38;5;28;01mif\u001b[39;00m \u001b[38;5;28mself\u001b[39m\u001b[38;5;241m.\u001b[39m_is_multi_objective():\n\u001b[1;32m    157\u001b[0m     \u001b[38;5;28;01mraise\u001b[39;00m \u001b[38;5;167;01mRuntimeError\u001b[39;00m(\n\u001b[1;32m    158\u001b[0m         \u001b[38;5;124m\"\u001b[39m\u001b[38;5;124mA single best trial cannot be retrieved from a multi-objective study. Consider \u001b[39m\u001b[38;5;124m\"\u001b[39m\n\u001b[1;32m    159\u001b[0m         \u001b[38;5;124m\"\u001b[39m\u001b[38;5;124musing Study.best_trials to retrieve a list containing the best trials.\u001b[39m\u001b[38;5;124m\"\u001b[39m\n\u001b[1;32m    160\u001b[0m     )\n\u001b[0;32m--> 162\u001b[0m best_trial \u001b[38;5;241m=\u001b[39m \u001b[38;5;28mself\u001b[39m\u001b[38;5;241m.\u001b[39m_storage\u001b[38;5;241m.\u001b[39mget_best_trial(\u001b[38;5;28mself\u001b[39m\u001b[38;5;241m.\u001b[39m_study_id)\n\u001b[1;32m    164\u001b[0m \u001b[38;5;66;03m# If the trial with the best value is infeasible, select the best trial from all feasible\u001b[39;00m\n\u001b[1;32m    165\u001b[0m \u001b[38;5;66;03m# trials. Note that the behavior is undefined when constrained optimization without the\u001b[39;00m\n\u001b[1;32m    166\u001b[0m \u001b[38;5;66;03m# violation value in the best-valued trial.\u001b[39;00m\n\u001b[1;32m    167\u001b[0m constraints \u001b[38;5;241m=\u001b[39m best_trial\u001b[38;5;241m.\u001b[39msystem_attrs\u001b[38;5;241m.\u001b[39mget(_CONSTRAINTS_KEY)\n",
      "File \u001b[0;32m~/opt/anaconda3/envs/modelizacion_datos/lib/python3.12/site-packages/optuna/storages/_in_memory.py:249\u001b[0m, in \u001b[0;36mInMemoryStorage.get_best_trial\u001b[0;34m(self, study_id)\u001b[0m\n\u001b[1;32m    246\u001b[0m best_trial_id \u001b[38;5;241m=\u001b[39m \u001b[38;5;28mself\u001b[39m\u001b[38;5;241m.\u001b[39m_studies[study_id]\u001b[38;5;241m.\u001b[39mbest_trial_id\n\u001b[1;32m    248\u001b[0m \u001b[38;5;28;01mif\u001b[39;00m best_trial_id \u001b[38;5;129;01mis\u001b[39;00m \u001b[38;5;28;01mNone\u001b[39;00m:\n\u001b[0;32m--> 249\u001b[0m     \u001b[38;5;28;01mraise\u001b[39;00m \u001b[38;5;167;01mValueError\u001b[39;00m(\u001b[38;5;124m\"\u001b[39m\u001b[38;5;124mNo trials are completed yet.\u001b[39m\u001b[38;5;124m\"\u001b[39m)\n\u001b[1;32m    250\u001b[0m \u001b[38;5;28;01melif\u001b[39;00m \u001b[38;5;28mlen\u001b[39m(\u001b[38;5;28mself\u001b[39m\u001b[38;5;241m.\u001b[39m_studies[study_id]\u001b[38;5;241m.\u001b[39mdirections) \u001b[38;5;241m>\u001b[39m \u001b[38;5;241m1\u001b[39m:\n\u001b[1;32m    251\u001b[0m     \u001b[38;5;28;01mraise\u001b[39;00m \u001b[38;5;167;01mRuntimeError\u001b[39;00m(\n\u001b[1;32m    252\u001b[0m         \u001b[38;5;124m\"\u001b[39m\u001b[38;5;124mBest trial can be obtained only for single-objective optimization.\u001b[39m\u001b[38;5;124m\"\u001b[39m\n\u001b[1;32m    253\u001b[0m     )\n",
      "\u001b[0;31mValueError\u001b[0m: No trials are completed yet."
     ]
    }
   ],
   "source": [
    "study = optuna.create_study(direction=\"minimize\")\n",
    "study.optimize(objective, n_trials=50)\n",
    "print(study.best_trial)"
   ]
  }
 ],
 "metadata": {
  "kernelspec": {
   "display_name": "Python 3",
   "language": "python",
   "name": "python3"
  },
  "language_info": {
   "codemirror_mode": {
    "name": "ipython",
    "version": 3
   },
   "file_extension": ".py",
   "mimetype": "text/x-python",
   "name": "python",
   "nbconvert_exporter": "python",
   "pygments_lexer": "ipython3",
   "version": "3.12.8"
  }
 },
 "nbformat": 4,
 "nbformat_minor": 2
}
